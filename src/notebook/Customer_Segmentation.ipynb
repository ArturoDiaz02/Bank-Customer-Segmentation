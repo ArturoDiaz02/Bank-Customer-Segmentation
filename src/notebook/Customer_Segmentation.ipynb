{
 "cells": [
  {
   "attachments": {},
   "cell_type": "markdown",
   "metadata": {},
   "source": [
    "<h2 style=\"color:MediumVioletRed; font-family:Cursive\"><b>Goal of creating this Notebook🎯</h2>\n",
    "\n",
    "1. Perform Clustering / Segmentation on the dataset and identify popular customer groups along with their definitions/rules\n",
    "2. Perform Location-wise analysis to identify regional trends in India\n",
    "3. Perform transaction-related analysis to identify interesting trends that can be used by a bank to improve / optimi their user experiences\n",
    "4. Customer Recency, Frequency, Monetary analysis\n",
    "5. Network analysis or Graph analysis of customer data."
   ]
  },
  {
   "attachments": {},
   "cell_type": "markdown",
   "metadata": {},
   "source": [
    "**Table of contents of this notebook: 📭**\n",
    "\n",
    "1. [Importing Necessary Libraries](#1)\n",
    "\n",
    "2. [Data Collection](#2)\n",
    "\n",
    "3. [Data Cleaning](#3)\n",
    "\n",
    "4. [Exploratory Data Analysis](#4)"
   ]
  },
  {
   "attachments": {},
   "cell_type": "markdown",
   "metadata": {},
   "source": [
    "<h2  style=\"color:darkmagenta;text-align: center; background-color: AliceBlue;padding: 20px;\">1. Importing Libraries</h2><a id = \"1\"></a>"
   ]
  },
  {
   "cell_type": "code",
   "execution_count": 1,
   "metadata": {},
   "outputs": [],
   "source": [
    "import re\n",
    "import numpy as np \n",
    "import pandas as pd \n",
    "import matplotlib.pyplot as plt\n",
    "%matplotlib inline\n",
    "plt.style.use(\"fivethirtyeight\")\n",
    "import seaborn as sns"
   ]
  },
  {
   "attachments": {},
   "cell_type": "markdown",
   "metadata": {},
   "source": [
    "<h2  style=\"color:darkmagenta;text-align: center; background-color: AliceBlue;padding: 20px;\">2. Data Collection</h2><a id = \"2\"></a>"
   ]
  },
  {
   "cell_type": "code",
   "execution_count": 2,
   "metadata": {},
   "outputs": [
    {
     "data": {
      "text/html": [
       "<div>\n",
       "<style scoped>\n",
       "    .dataframe tbody tr th:only-of-type {\n",
       "        vertical-align: middle;\n",
       "    }\n",
       "\n",
       "    .dataframe tbody tr th {\n",
       "        vertical-align: top;\n",
       "    }\n",
       "\n",
       "    .dataframe thead th {\n",
       "        text-align: right;\n",
       "    }\n",
       "</style>\n",
       "<table border=\"1\" class=\"dataframe\">\n",
       "  <thead>\n",
       "    <tr style=\"text-align: right;\">\n",
       "      <th></th>\n",
       "      <th>TransactionID</th>\n",
       "      <th>CustomerID</th>\n",
       "      <th>CustomerDOB</th>\n",
       "      <th>CustGender</th>\n",
       "      <th>CustLocation</th>\n",
       "      <th>CustAccountBalance</th>\n",
       "      <th>TransactionDate</th>\n",
       "      <th>TransactionTime</th>\n",
       "      <th>TransactionAmount (INR)</th>\n",
       "    </tr>\n",
       "  </thead>\n",
       "  <tbody>\n",
       "    <tr>\n",
       "      <th>0</th>\n",
       "      <td>T1</td>\n",
       "      <td>C5841053</td>\n",
       "      <td>10/1/94</td>\n",
       "      <td>F</td>\n",
       "      <td>JAMSHEDPUR</td>\n",
       "      <td>17819.05</td>\n",
       "      <td>2/8/16</td>\n",
       "      <td>143207</td>\n",
       "      <td>25.0</td>\n",
       "    </tr>\n",
       "    <tr>\n",
       "      <th>1</th>\n",
       "      <td>T2</td>\n",
       "      <td>C2142763</td>\n",
       "      <td>4/4/57</td>\n",
       "      <td>M</td>\n",
       "      <td>JHAJJAR</td>\n",
       "      <td>2270.69</td>\n",
       "      <td>2/8/16</td>\n",
       "      <td>141858</td>\n",
       "      <td>27999.0</td>\n",
       "    </tr>\n",
       "    <tr>\n",
       "      <th>2</th>\n",
       "      <td>T3</td>\n",
       "      <td>C4417068</td>\n",
       "      <td>26/11/96</td>\n",
       "      <td>F</td>\n",
       "      <td>MUMBAI</td>\n",
       "      <td>17874.44</td>\n",
       "      <td>2/8/16</td>\n",
       "      <td>142712</td>\n",
       "      <td>459.0</td>\n",
       "    </tr>\n",
       "    <tr>\n",
       "      <th>3</th>\n",
       "      <td>T4</td>\n",
       "      <td>C5342380</td>\n",
       "      <td>14/9/73</td>\n",
       "      <td>F</td>\n",
       "      <td>MUMBAI</td>\n",
       "      <td>866503.21</td>\n",
       "      <td>2/8/16</td>\n",
       "      <td>142714</td>\n",
       "      <td>2060.0</td>\n",
       "    </tr>\n",
       "    <tr>\n",
       "      <th>4</th>\n",
       "      <td>T5</td>\n",
       "      <td>C9031234</td>\n",
       "      <td>24/3/88</td>\n",
       "      <td>F</td>\n",
       "      <td>NAVI MUMBAI</td>\n",
       "      <td>6714.43</td>\n",
       "      <td>2/8/16</td>\n",
       "      <td>181156</td>\n",
       "      <td>1762.5</td>\n",
       "    </tr>\n",
       "  </tbody>\n",
       "</table>\n",
       "</div>"
      ],
      "text/plain": [
       "  TransactionID CustomerID CustomerDOB CustGender CustLocation  \\\n",
       "0            T1   C5841053     10/1/94          F   JAMSHEDPUR   \n",
       "1            T2   C2142763      4/4/57          M      JHAJJAR   \n",
       "2            T3   C4417068    26/11/96          F       MUMBAI   \n",
       "3            T4   C5342380     14/9/73          F       MUMBAI   \n",
       "4            T5   C9031234     24/3/88          F  NAVI MUMBAI   \n",
       "\n",
       "   CustAccountBalance TransactionDate  TransactionTime  \\\n",
       "0            17819.05          2/8/16           143207   \n",
       "1             2270.69          2/8/16           141858   \n",
       "2            17874.44          2/8/16           142712   \n",
       "3           866503.21          2/8/16           142714   \n",
       "4             6714.43          2/8/16           181156   \n",
       "\n",
       "   TransactionAmount (INR)  \n",
       "0                     25.0  \n",
       "1                  27999.0  \n",
       "2                    459.0  \n",
       "3                   2060.0  \n",
       "4                   1762.5  "
      ]
     },
     "execution_count": 2,
     "metadata": {},
     "output_type": "execute_result"
    }
   ],
   "source": [
    "df = pd.read_csv(\"../../data/bank_transactions.csv\")\n",
    "df.head()"
   ]
  },
  {
   "cell_type": "code",
   "execution_count": 3,
   "metadata": {},
   "outputs": [],
   "source": [
    "df = df.rename(columns={'TransactionAmount (INR)':'TransactionAmount'})"
   ]
  },
  {
   "cell_type": "code",
   "execution_count": 4,
   "metadata": {},
   "outputs": [
    {
     "data": {
      "text/plain": [
       "(1048567, 9)"
      ]
     },
     "execution_count": 4,
     "metadata": {},
     "output_type": "execute_result"
    }
   ],
   "source": [
    "initialRows = df.shape[0]\n",
    "df.shape"
   ]
  },
  {
   "attachments": {},
   "cell_type": "markdown",
   "metadata": {},
   "source": [
    "<h2  style=\"color:darkmagenta;text-align: center; background-color: AliceBlue;padding: 20px;\">3. Data Cleaning</h2><a id = \"3\"></a>"
   ]
  },
  {
   "cell_type": "code",
   "execution_count": null,
   "metadata": {},
   "outputs": [],
   "source": [
    "df.info()"
   ]
  },
  {
   "attachments": {},
   "cell_type": "markdown",
   "metadata": {},
   "source": [
    "<h3>The amount of null data and duplicated is calculated</h3>"
   ]
  },
  {
   "cell_type": "code",
   "execution_count": null,
   "metadata": {},
   "outputs": [],
   "source": [
    "def check(df):\n",
    "    l=[]\n",
    "    columns=df.columns\n",
    "    for col in columns:\n",
    "        dtypes=df[col].dtypes\n",
    "        nunique=df[col].nunique()\n",
    "        sum_null=df[col].isnull().sum()\n",
    "        l.append([col,dtypes,nunique,sum_null])\n",
    "    df_check=pd.DataFrame(l)\n",
    "    df_check.columns=['column','dtypes','nunique','sum_null']\n",
    "    return df_check \n",
    "check(df)"
   ]
  },
  {
   "cell_type": "code",
   "execution_count": 5,
   "metadata": {},
   "outputs": [],
   "source": [
    "df.dropna(inplace=True)"
   ]
  },
  {
   "cell_type": "code",
   "execution_count": null,
   "metadata": {},
   "outputs": [],
   "source": [
    "df.duplicated().sum()"
   ]
  },
  {
   "attachments": {},
   "cell_type": "markdown",
   "metadata": {},
   "source": [
    "<h3>The CustomerDOB column is analyzed because it may contain atypical data.</h3>"
   ]
  },
  {
   "cell_type": "code",
   "execution_count": null,
   "metadata": {},
   "outputs": [],
   "source": [
    "df['CustomerDOB'].value_counts()"
   ]
  },
  {
   "attachments": {},
   "cell_type": "markdown",
   "metadata": {},
   "source": [
    "<p>Data 1/1/1800 are deleted because it is not possible to define whether they are children, adults or persons without date of birth.</p>"
   ]
  },
  {
   "cell_type": "code",
   "execution_count": 6,
   "metadata": {},
   "outputs": [
    {
     "data": {
      "text/plain": [
       "1/1/89      809\n",
       "1/1/90      784\n",
       "6/8/91      698\n",
       "1/1/91      665\n",
       "1/1/92      631\n",
       "           ... \n",
       "23/2/05       1\n",
       "28/11/42      1\n",
       "23/9/49       1\n",
       "14/3/40       1\n",
       "24/10/44      1\n",
       "Name: CustomerDOB, Length: 17232, dtype: int64"
      ]
     },
     "execution_count": 6,
     "metadata": {},
     "output_type": "execute_result"
    }
   ],
   "source": [
    "df = df.loc[~(df['CustomerDOB'] == '1/1/1800')]\n",
    "df['CustomerDOB'].value_counts()"
   ]
  },
  {
   "cell_type": "code",
   "execution_count": 7,
   "metadata": {},
   "outputs": [
    {
     "name": "stdout",
     "output_type": "stream",
     "text": [
      "min: 1/1/00 max: 9/9/97\n"
     ]
    }
   ],
   "source": [
    "print(\"min: \" + df['CustomerDOB'].min() + \" max: \" + df['CustomerDOB'].max())"
   ]
  },
  {
   "attachments": {},
   "cell_type": "markdown",
   "metadata": {},
   "source": [
    "<p>Convert type of columns TransactionDate,CustomerDOB from string to datetime.</p>"
   ]
  },
  {
   "cell_type": "code",
   "execution_count": 8,
   "metadata": {},
   "outputs": [
    {
     "data": {
      "text/html": [
       "<div>\n",
       "<style scoped>\n",
       "    .dataframe tbody tr th:only-of-type {\n",
       "        vertical-align: middle;\n",
       "    }\n",
       "\n",
       "    .dataframe tbody tr th {\n",
       "        vertical-align: top;\n",
       "    }\n",
       "\n",
       "    .dataframe thead th {\n",
       "        text-align: right;\n",
       "    }\n",
       "</style>\n",
       "<table border=\"1\" class=\"dataframe\">\n",
       "  <thead>\n",
       "    <tr style=\"text-align: right;\">\n",
       "      <th></th>\n",
       "      <th>TransactionID</th>\n",
       "      <th>CustomerID</th>\n",
       "      <th>CustomerDOB</th>\n",
       "      <th>CustGender</th>\n",
       "      <th>CustLocation</th>\n",
       "      <th>CustAccountBalance</th>\n",
       "      <th>TransactionDate</th>\n",
       "      <th>TransactionTime</th>\n",
       "      <th>TransactionAmount</th>\n",
       "    </tr>\n",
       "  </thead>\n",
       "  <tbody>\n",
       "    <tr>\n",
       "      <th>1</th>\n",
       "      <td>T2</td>\n",
       "      <td>C2142763</td>\n",
       "      <td>2057-04-04</td>\n",
       "      <td>M</td>\n",
       "      <td>JHAJJAR</td>\n",
       "      <td>2270.69</td>\n",
       "      <td>2/8/16</td>\n",
       "      <td>141858</td>\n",
       "      <td>27999.00</td>\n",
       "    </tr>\n",
       "    <tr>\n",
       "      <th>5</th>\n",
       "      <td>T6</td>\n",
       "      <td>C1536588</td>\n",
       "      <td>2072-10-08</td>\n",
       "      <td>F</td>\n",
       "      <td>ITANAGAR</td>\n",
       "      <td>53609.20</td>\n",
       "      <td>2/8/16</td>\n",
       "      <td>173940</td>\n",
       "      <td>676.00</td>\n",
       "    </tr>\n",
       "    <tr>\n",
       "      <th>15</th>\n",
       "      <td>T16</td>\n",
       "      <td>C8334633</td>\n",
       "      <td>2068-07-10</td>\n",
       "      <td>F</td>\n",
       "      <td>NEW DELHI</td>\n",
       "      <td>1283.12</td>\n",
       "      <td>1/8/16</td>\n",
       "      <td>125725</td>\n",
       "      <td>250.00</td>\n",
       "    </tr>\n",
       "    <tr>\n",
       "      <th>30</th>\n",
       "      <td>T31</td>\n",
       "      <td>C7648712</td>\n",
       "      <td>2067-01-21</td>\n",
       "      <td>F</td>\n",
       "      <td>NEW DELHI</td>\n",
       "      <td>298461.05</td>\n",
       "      <td>3/8/16</td>\n",
       "      <td>160642</td>\n",
       "      <td>500.00</td>\n",
       "    </tr>\n",
       "    <tr>\n",
       "      <th>51</th>\n",
       "      <td>T52</td>\n",
       "      <td>C6637047</td>\n",
       "      <td>2066-07-25</td>\n",
       "      <td>M</td>\n",
       "      <td>PUNE</td>\n",
       "      <td>9956.49</td>\n",
       "      <td>5/8/16</td>\n",
       "      <td>133141</td>\n",
       "      <td>145.00</td>\n",
       "    </tr>\n",
       "    <tr>\n",
       "      <th>...</th>\n",
       "      <td>...</td>\n",
       "      <td>...</td>\n",
       "      <td>...</td>\n",
       "      <td>...</td>\n",
       "      <td>...</td>\n",
       "      <td>...</td>\n",
       "      <td>...</td>\n",
       "      <td>...</td>\n",
       "      <td>...</td>\n",
       "    </tr>\n",
       "    <tr>\n",
       "      <th>1048506</th>\n",
       "      <td>T1048507</td>\n",
       "      <td>C3333984</td>\n",
       "      <td>2070-09-20</td>\n",
       "      <td>M</td>\n",
       "      <td>NAVI MUMBAI</td>\n",
       "      <td>41.82</td>\n",
       "      <td>18/9/16</td>\n",
       "      <td>182310</td>\n",
       "      <td>878.18</td>\n",
       "    </tr>\n",
       "    <tr>\n",
       "      <th>1048510</th>\n",
       "      <td>T1048511</td>\n",
       "      <td>C3429427</td>\n",
       "      <td>2048-07-15</td>\n",
       "      <td>M</td>\n",
       "      <td>HOWRAH</td>\n",
       "      <td>416244.74</td>\n",
       "      <td>18/9/16</td>\n",
       "      <td>184959</td>\n",
       "      <td>1695.00</td>\n",
       "    </tr>\n",
       "    <tr>\n",
       "      <th>1048536</th>\n",
       "      <td>T1048537</td>\n",
       "      <td>C2939947</td>\n",
       "      <td>2033-10-05</td>\n",
       "      <td>M</td>\n",
       "      <td>NEW DELHI</td>\n",
       "      <td>92173.35</td>\n",
       "      <td>18/9/16</td>\n",
       "      <td>184556</td>\n",
       "      <td>1319.04</td>\n",
       "    </tr>\n",
       "    <tr>\n",
       "      <th>1048544</th>\n",
       "      <td>T1048545</td>\n",
       "      <td>C3712582</td>\n",
       "      <td>2071-10-05</td>\n",
       "      <td>M</td>\n",
       "      <td>MUMBAI</td>\n",
       "      <td>25414.52</td>\n",
       "      <td>18/9/16</td>\n",
       "      <td>182015</td>\n",
       "      <td>400.00</td>\n",
       "    </tr>\n",
       "    <tr>\n",
       "      <th>1048552</th>\n",
       "      <td>T1048553</td>\n",
       "      <td>C5091732</td>\n",
       "      <td>2071-08-21</td>\n",
       "      <td>F</td>\n",
       "      <td>NEW DELHI</td>\n",
       "      <td>235620.05</td>\n",
       "      <td>18/9/16</td>\n",
       "      <td>184234</td>\n",
       "      <td>1058.00</td>\n",
       "    </tr>\n",
       "  </tbody>\n",
       "</table>\n",
       "<p>84586 rows × 9 columns</p>\n",
       "</div>"
      ],
      "text/plain": [
       "        TransactionID CustomerID CustomerDOB CustGender CustLocation  \\\n",
       "1                  T2   C2142763  2057-04-04          M      JHAJJAR   \n",
       "5                  T6   C1536588  2072-10-08          F     ITANAGAR   \n",
       "15                T16   C8334633  2068-07-10          F    NEW DELHI   \n",
       "30                T31   C7648712  2067-01-21          F    NEW DELHI   \n",
       "51                T52   C6637047  2066-07-25          M         PUNE   \n",
       "...               ...        ...         ...        ...          ...   \n",
       "1048506      T1048507   C3333984  2070-09-20          M  NAVI MUMBAI   \n",
       "1048510      T1048511   C3429427  2048-07-15          M       HOWRAH   \n",
       "1048536      T1048537   C2939947  2033-10-05          M    NEW DELHI   \n",
       "1048544      T1048545   C3712582  2071-10-05          M       MUMBAI   \n",
       "1048552      T1048553   C5091732  2071-08-21          F    NEW DELHI   \n",
       "\n",
       "         CustAccountBalance TransactionDate  TransactionTime  \\\n",
       "1                   2270.69          2/8/16           141858   \n",
       "5                  53609.20          2/8/16           173940   \n",
       "15                  1283.12          1/8/16           125725   \n",
       "30                298461.05          3/8/16           160642   \n",
       "51                  9956.49          5/8/16           133141   \n",
       "...                     ...             ...              ...   \n",
       "1048506               41.82         18/9/16           182310   \n",
       "1048510           416244.74         18/9/16           184959   \n",
       "1048536            92173.35         18/9/16           184556   \n",
       "1048544            25414.52         18/9/16           182015   \n",
       "1048552           235620.05         18/9/16           184234   \n",
       "\n",
       "         TransactionAmount  \n",
       "1                 27999.00  \n",
       "5                   676.00  \n",
       "15                  250.00  \n",
       "30                  500.00  \n",
       "51                  145.00  \n",
       "...                    ...  \n",
       "1048506             878.18  \n",
       "1048510            1695.00  \n",
       "1048536            1319.04  \n",
       "1048544             400.00  \n",
       "1048552            1058.00  \n",
       "\n",
       "[84586 rows x 9 columns]"
      ]
     },
     "execution_count": 8,
     "metadata": {},
     "output_type": "execute_result"
    }
   ],
   "source": [
    "df['CustomerDOB'] = pd.to_datetime(df['CustomerDOB'], dayfirst=True)\n",
    "df[df['CustomerDOB'] > '2001-01-01']"
   ]
  },
  {
   "cell_type": "code",
   "execution_count": null,
   "metadata": {},
   "outputs": [],
   "source": [
    "print(df['CustomerDOB'].min(), df['CustomerDOB'].max())"
   ]
  },
  {
   "cell_type": "code",
   "execution_count": 9,
   "metadata": {},
   "outputs": [
    {
     "data": {
      "text/html": [
       "<div>\n",
       "<style scoped>\n",
       "    .dataframe tbody tr th:only-of-type {\n",
       "        vertical-align: middle;\n",
       "    }\n",
       "\n",
       "    .dataframe tbody tr th {\n",
       "        vertical-align: top;\n",
       "    }\n",
       "\n",
       "    .dataframe thead th {\n",
       "        text-align: right;\n",
       "    }\n",
       "</style>\n",
       "<table border=\"1\" class=\"dataframe\">\n",
       "  <thead>\n",
       "    <tr style=\"text-align: right;\">\n",
       "      <th></th>\n",
       "      <th>TransactionID</th>\n",
       "      <th>CustomerID</th>\n",
       "      <th>CustomerDOB</th>\n",
       "      <th>CustGender</th>\n",
       "      <th>CustLocation</th>\n",
       "      <th>CustAccountBalance</th>\n",
       "      <th>TransactionDate</th>\n",
       "      <th>TransactionTime</th>\n",
       "      <th>TransactionAmount</th>\n",
       "    </tr>\n",
       "  </thead>\n",
       "  <tbody>\n",
       "    <tr>\n",
       "      <th>3696</th>\n",
       "      <td>T3697</td>\n",
       "      <td>C1934386</td>\n",
       "      <td>2002-12-09</td>\n",
       "      <td>M</td>\n",
       "      <td>NEW DELHI</td>\n",
       "      <td>51469.13</td>\n",
       "      <td>21/10/16</td>\n",
       "      <td>171357</td>\n",
       "      <td>963.0</td>\n",
       "    </tr>\n",
       "    <tr>\n",
       "      <th>5920</th>\n",
       "      <td>T5921</td>\n",
       "      <td>C7424249</td>\n",
       "      <td>2001-03-04</td>\n",
       "      <td>M</td>\n",
       "      <td>BANGALORE</td>\n",
       "      <td>4550.32</td>\n",
       "      <td>23/9/16</td>\n",
       "      <td>133547</td>\n",
       "      <td>1197.4</td>\n",
       "    </tr>\n",
       "    <tr>\n",
       "      <th>6714</th>\n",
       "      <td>T6715</td>\n",
       "      <td>C7828452</td>\n",
       "      <td>2002-08-20</td>\n",
       "      <td>M</td>\n",
       "      <td>AMRITSAR</td>\n",
       "      <td>2458.12</td>\n",
       "      <td>26/9/16</td>\n",
       "      <td>232151</td>\n",
       "      <td>50.0</td>\n",
       "    </tr>\n",
       "    <tr>\n",
       "      <th>9674</th>\n",
       "      <td>T9675</td>\n",
       "      <td>C7937849</td>\n",
       "      <td>2003-12-08</td>\n",
       "      <td>M</td>\n",
       "      <td>BAREILLY</td>\n",
       "      <td>2593.90</td>\n",
       "      <td>25/9/16</td>\n",
       "      <td>193751</td>\n",
       "      <td>3294.0</td>\n",
       "    </tr>\n",
       "    <tr>\n",
       "      <th>19811</th>\n",
       "      <td>T19812</td>\n",
       "      <td>C7421182</td>\n",
       "      <td>2002-02-07</td>\n",
       "      <td>M</td>\n",
       "      <td>MOHALI</td>\n",
       "      <td>97442.06</td>\n",
       "      <td>26/9/16</td>\n",
       "      <td>115008</td>\n",
       "      <td>0.0</td>\n",
       "    </tr>\n",
       "    <tr>\n",
       "      <th>...</th>\n",
       "      <td>...</td>\n",
       "      <td>...</td>\n",
       "      <td>...</td>\n",
       "      <td>...</td>\n",
       "      <td>...</td>\n",
       "      <td>...</td>\n",
       "      <td>...</td>\n",
       "      <td>...</td>\n",
       "      <td>...</td>\n",
       "    </tr>\n",
       "    <tr>\n",
       "      <th>1040958</th>\n",
       "      <td>T1040959</td>\n",
       "      <td>C3074853</td>\n",
       "      <td>2002-03-31</td>\n",
       "      <td>F</td>\n",
       "      <td>MUKTSAR</td>\n",
       "      <td>14552.60</td>\n",
       "      <td>18/9/16</td>\n",
       "      <td>144908</td>\n",
       "      <td>101.0</td>\n",
       "    </tr>\n",
       "    <tr>\n",
       "      <th>1044338</th>\n",
       "      <td>T1044339</td>\n",
       "      <td>C6822618</td>\n",
       "      <td>2001-07-11</td>\n",
       "      <td>F</td>\n",
       "      <td>PATNA</td>\n",
       "      <td>92052.93</td>\n",
       "      <td>18/9/16</td>\n",
       "      <td>103104</td>\n",
       "      <td>5884.0</td>\n",
       "    </tr>\n",
       "    <tr>\n",
       "      <th>1045058</th>\n",
       "      <td>T1045059</td>\n",
       "      <td>C3422655</td>\n",
       "      <td>2001-07-11</td>\n",
       "      <td>F</td>\n",
       "      <td>PATNA</td>\n",
       "      <td>92052.93</td>\n",
       "      <td>18/9/16</td>\n",
       "      <td>80219</td>\n",
       "      <td>368.0</td>\n",
       "    </tr>\n",
       "    <tr>\n",
       "      <th>1045119</th>\n",
       "      <td>T1045120</td>\n",
       "      <td>C8943140</td>\n",
       "      <td>2002-07-17</td>\n",
       "      <td>F</td>\n",
       "      <td>AGRA</td>\n",
       "      <td>9315.13</td>\n",
       "      <td>18/9/16</td>\n",
       "      <td>3547</td>\n",
       "      <td>600.0</td>\n",
       "    </tr>\n",
       "    <tr>\n",
       "      <th>1046676</th>\n",
       "      <td>T1046677</td>\n",
       "      <td>C2722682</td>\n",
       "      <td>2001-07-11</td>\n",
       "      <td>F</td>\n",
       "      <td>PATNA</td>\n",
       "      <td>92052.93</td>\n",
       "      <td>18/9/16</td>\n",
       "      <td>103222</td>\n",
       "      <td>5884.0</td>\n",
       "    </tr>\n",
       "  </tbody>\n",
       "</table>\n",
       "<p>299 rows × 9 columns</p>\n",
       "</div>"
      ],
      "text/plain": [
       "        TransactionID CustomerID CustomerDOB CustGender CustLocation  \\\n",
       "3696            T3697   C1934386  2002-12-09          M    NEW DELHI   \n",
       "5920            T5921   C7424249  2001-03-04          M    BANGALORE   \n",
       "6714            T6715   C7828452  2002-08-20          M     AMRITSAR   \n",
       "9674            T9675   C7937849  2003-12-08          M     BAREILLY   \n",
       "19811          T19812   C7421182  2002-02-07          M       MOHALI   \n",
       "...               ...        ...         ...        ...          ...   \n",
       "1040958      T1040959   C3074853  2002-03-31          F      MUKTSAR   \n",
       "1044338      T1044339   C6822618  2001-07-11          F        PATNA   \n",
       "1045058      T1045059   C3422655  2001-07-11          F        PATNA   \n",
       "1045119      T1045120   C8943140  2002-07-17          F         AGRA   \n",
       "1046676      T1046677   C2722682  2001-07-11          F        PATNA   \n",
       "\n",
       "         CustAccountBalance TransactionDate  TransactionTime  \\\n",
       "3696               51469.13        21/10/16           171357   \n",
       "5920                4550.32         23/9/16           133547   \n",
       "6714                2458.12         26/9/16           232151   \n",
       "9674                2593.90         25/9/16           193751   \n",
       "19811              97442.06         26/9/16           115008   \n",
       "...                     ...             ...              ...   \n",
       "1040958            14552.60         18/9/16           144908   \n",
       "1044338            92052.93         18/9/16           103104   \n",
       "1045058            92052.93         18/9/16            80219   \n",
       "1045119             9315.13         18/9/16             3547   \n",
       "1046676            92052.93         18/9/16           103222   \n",
       "\n",
       "         TransactionAmount  \n",
       "3696                 963.0  \n",
       "5920                1197.4  \n",
       "6714                  50.0  \n",
       "9674                3294.0  \n",
       "19811                  0.0  \n",
       "...                    ...  \n",
       "1040958              101.0  \n",
       "1044338             5884.0  \n",
       "1045058              368.0  \n",
       "1045119              600.0  \n",
       "1046676             5884.0  \n",
       "\n",
       "[299 rows x 9 columns]"
      ]
     },
     "execution_count": 9,
     "metadata": {},
     "output_type": "execute_result"
    }
   ],
   "source": [
    "df.loc[df['CustomerDOB'].dt.year > 2000, 'CustomerDOB'] -= pd.DateOffset(years=100)\n",
    "df[df['CustomerDOB'] > '2001-01-01']"
   ]
  },
  {
   "cell_type": "code",
   "execution_count": 10,
   "metadata": {},
   "outputs": [
    {
     "name": "stdout",
     "output_type": "stream",
     "text": [
      "1904-01-20 00:00:00 2003-12-21 00:00:00\n"
     ]
    }
   ],
   "source": [
    "print(df['CustomerDOB'].min(), df['CustomerDOB'].max())"
   ]
  },
  {
   "cell_type": "code",
   "execution_count": 11,
   "metadata": {},
   "outputs": [],
   "source": [
    "df['TransactionDate'] = pd.to_datetime(df['TransactionDate'])"
   ]
  },
  {
   "cell_type": "code",
   "execution_count": null,
   "metadata": {},
   "outputs": [],
   "source": [
    "print(df['TransactionDate'].min(), df['TransactionDate'].max())"
   ]
  },
  {
   "attachments": {},
   "cell_type": "markdown",
   "metadata": {},
   "source": [
    "<p> calculate customer age :</p>\n",
    "<p> CustomerDOB is the birth date of the customer , TransactionDate : is the date of transaction that customer is done\n",
    "</p>"
   ]
  },
  {
   "cell_type": "code",
   "execution_count": 12,
   "metadata": {},
   "outputs": [],
   "source": [
    "df['CustomerAge'] = df['TransactionDate'].dt.year - df['CustomerDOB'].dt.year"
   ]
  },
  {
   "cell_type": "code",
   "execution_count": 13,
   "metadata": {},
   "outputs": [
    {
     "name": "stdout",
     "output_type": "stream",
     "text": [
      "min: 13 max: 112\n"
     ]
    }
   ],
   "source": [
    "print(\"min: \" + str(df['CustomerAge'].min()) + \" max: \" + str(df['CustomerAge'].max()))"
   ]
  },
  {
   "cell_type": "code",
   "execution_count": null,
   "metadata": {},
   "outputs": [],
   "source": [
    "df.CustGender.value_counts()"
   ]
  },
  {
   "cell_type": "code",
   "execution_count": null,
   "metadata": {},
   "outputs": [],
   "source": [
    "num_col = df.select_dtypes(include=np.number)\n",
    "cat_col = df.select_dtypes(exclude=np.number)"
   ]
  },
  {
   "cell_type": "code",
   "execution_count": null,
   "metadata": {},
   "outputs": [],
   "source": [
    "plt.style.use(\"fivethirtyeight\")\n",
    "plt.figure(figsize=(30,30))\n",
    "for index,column in enumerate(num_col):\n",
    "    plt.subplot(7,4,index+1)\n",
    "    sns.boxplot(data=num_col,x=column)\n",
    "    \n",
    "plt.tight_layout(pad = 1.0)"
   ]
  },
  {
   "cell_type": "code",
   "execution_count": null,
   "metadata": {},
   "outputs": [],
   "source": [
    "print(\"Number of initial rows: \", initialRows)\n",
    "print(\"Number of rows after: \", df.shape[0])\n",
    "print(\"Number of rows deleted: \", initialRows - df.shape[0])\n",
    "print(\"Percentage of rows deleted: \", (initialRows - df.shape[0]) / initialRows * 100, \"%\")"
   ]
  },
  {
   "attachments": {},
   "cell_type": "markdown",
   "metadata": {},
   "source": [
    "<h3 style=\"color:MediumVioletRed; font-family:Cursive\">Observations 💡:</h3>\n",
    "<p>There is no outliers.I can not say that there is a outliers.May Some variables seem like outliers but they are not, I decided spare any data.</p>"
   ]
  },
  {
   "attachments": {},
   "cell_type": "markdown",
   "metadata": {},
   "source": [
    "<img src=\"https://miro.medium.com/max/638/0*JddVeZpHXdElEec_\" alt=\"RFM\" >\n",
    "<p style=\"color:DarkSlateGray\">those two articles will help you to understand this topic 📜:</p>\n",
    "<a href=\"https://connectif.ai/en/what-are-rfm-scores-and-how-to-calculate-them/\">What Are RFM Scores and How To Calculate Them</a>\n",
    "<br>\n",
    "<a href=\"https://www.datacamp.com/tutorial/introduction-customer-segmentation-python\">Introduction to Customer Segmentation in Python</a>"
   ]
  },
  {
   "attachments": {},
   "cell_type": "markdown",
   "metadata": {},
   "source": [
    "<p>Recency: number of days since the last purchase or order so I will create a new column of TransactionDate to subtract the last transaction from the first transaction</p>"
   ]
  },
  {
   "cell_type": "code",
   "execution_count": null,
   "metadata": {},
   "outputs": [],
   "source": [
    "#df['TransactionDate1'] ==> I will keep it to do visaulization\n",
    "df['TransactionDate1']=df['TransactionDate'] # ==> to calculate the minimum (first transaction)\n",
    "df['TransactionDate2']=df['TransactionDate'] # ==> to calculate the maximum (last transaction)"
   ]
  },
  {
   "cell_type": "code",
   "execution_count": null,
   "metadata": {},
   "outputs": [],
   "source": [
    "#Creating MRF Table Strategy\n",
    "\n",
    "RFM_df = df.groupby(\"CustomerID\").agg({\n",
    "                                        \"TransactionID\" : \"count\",\n",
    "                                        \"CustGender\" : \"first\",\n",
    "                                        \"CustLocation\":\"first\",\n",
    "                                        \"CustAccountBalance\"  : \"mean\",\n",
    "                                        \"TransactionTime\": \"mean\",\n",
    "                                        \"TransactionAmount\" : \"mean\",\n",
    "                                        \"CustomerAge\" : \"median\",\n",
    "                                        \"TransactionDate2\":\"max\",\n",
    "                                        \"TransactionDate1\":\"min\",\n",
    "                                        \"TransactionDate\":\"median\"\n",
    "                        })\n",
    "\n",
    "RFM_df = RFM_df.reset_index()\n",
    "RFM_df.head()"
   ]
  },
  {
   "cell_type": "code",
   "execution_count": null,
   "metadata": {},
   "outputs": [],
   "source": [
    "RFM_df.shape"
   ]
  },
  {
   "cell_type": "code",
   "execution_count": null,
   "metadata": {},
   "outputs": [],
   "source": [
    "RFM_df.drop(columns=[\"CustomerID\"],inplace=True)"
   ]
  },
  {
   "cell_type": "code",
   "execution_count": null,
   "metadata": {},
   "outputs": [],
   "source": [
    "RFM_df.rename(columns={\"TransactionID\":\"Frequency\"},inplace=True)"
   ]
  },
  {
   "cell_type": "code",
   "execution_count": null,
   "metadata": {},
   "outputs": [],
   "source": [
    "RFM_df['Recency']=RFM_df['TransactionDate2']-RFM_df['TransactionDate1']\n",
    "RFM_df['Recency']=RFM_df['Recency'].astype(str)"
   ]
  },
  {
   "cell_type": "code",
   "execution_count": null,
   "metadata": {},
   "outputs": [],
   "source": [
    "# extract the day\n",
    "x='18 day'\n",
    "re.search('\\d+',x).group()"
   ]
  },
  {
   "cell_type": "code",
   "execution_count": null,
   "metadata": {},
   "outputs": [],
   "source": [
    "RFM_df['Recency']=RFM_df['Recency'].apply(lambda x :re.search('\\d+',x).group())\n",
    "RFM_df['Recency']=RFM_df['Recency'].astype(int)"
   ]
  },
  {
   "attachments": {},
   "cell_type": "markdown",
   "metadata": {},
   "source": [
    "<p> 0 days mean that a customer has done transaction recently one time by logic so I will convert 0 to 1 </p>"
   ]
  },
  {
   "cell_type": "code",
   "execution_count": null,
   "metadata": {},
   "outputs": [],
   "source": [
    "def rep_0(i):\n",
    "    if i==0:\n",
    "        return 1\n",
    "    else:\n",
    "        return i\n",
    "RFM_df['Recency']=RFM_df['Recency'].apply(rep_0)"
   ]
  },
  {
   "cell_type": "code",
   "execution_count": null,
   "metadata": {},
   "outputs": [],
   "source": [
    "RFM_df.drop(columns=[\"TransactionDate1\",\"TransactionDate2\"],inplace=True)"
   ]
  },
  {
   "cell_type": "code",
   "execution_count": null,
   "metadata": {},
   "outputs": [],
   "source": [
    "# to claculate the otliers for each feature\n",
    "lower_list=[]\n",
    "upper_list=[]\n",
    "num_list=[]\n",
    "perc_list=[]\n",
    "cols=['Frequency', 'CustAccountBalance','TransactionAmount', 'CustomerAge', 'Recency']\n",
    "for i in cols:\n",
    "    Q1 = RFM_df[i].quantile(0.25)\n",
    "    Q3 = RFM_df[i].quantile(0.75)\n",
    "    IQR = Q3 - Q1\n",
    "    lower = Q1 - 1.5 * IQR\n",
    "    upper = Q3 + 1.5 * IQR\n",
    "    # calculate number of outliers\n",
    "    num=RFM_df[(RFM_df[i] < lower) | (RFM_df[i] > upper)].shape[0]\n",
    "    # calculate percentage of outliers\n",
    "    perc = (num / RFM_df.shape[0]) * 100\n",
    "    lower_list.append(lower)\n",
    "    upper_list.append(upper)\n",
    "    num_list.append(num)\n",
    "    perc_list.append(round(perc,2))\n",
    "\n",
    "    \n",
    "dic={'lower': lower_list, 'upper': upper_list, 'outliers': num_list, 'Perc%':perc_list }\n",
    "outliers_df=pd.DataFrame(dic,index=['Frequency', 'CustAccountBalance','TransactionAmount', 'CustomerAge', 'Recency'])\n",
    "outliers_df"
   ]
  },
  {
   "attachments": {},
   "cell_type": "markdown",
   "metadata": {},
   "source": [
    "<p>May Some variables seem like outliers but they are not, I decided spare any data.</p>"
   ]
  },
  {
   "cell_type": "code",
   "execution_count": null,
   "metadata": {},
   "outputs": [],
   "source": [
    "RFM_df.head()"
   ]
  },
  {
   "attachments": {},
   "cell_type": "markdown",
   "metadata": {},
   "source": [
    "<h2  style=\"color:darkmagenta;text-align: center; background-color: AliceBlue;padding: 20px;\">4. Exploratory Data Analysis</h2><a id = \"4\"></a>"
   ]
  },
  {
   "cell_type": "code",
   "execution_count": null,
   "metadata": {},
   "outputs": [],
   "source": [
    "RFM_df.describe()"
   ]
  },
  {
   "cell_type": "code",
   "execution_count": null,
   "metadata": {},
   "outputs": [],
   "source": [
    "# correlation between features\n",
    "plt.figure(figsize=(7,5))\n",
    "correlation=RFM_df.corr()\n",
    "sns.heatmap(correlation,vmin=None,\n",
    "    vmax=0.8,\n",
    "    cmap='rocket_r',\n",
    "    annot=True,\n",
    "    fmt='.1f',\n",
    "    linecolor='white',\n",
    "    cbar=True);"
   ]
  },
  {
   "cell_type": "code",
   "execution_count": null,
   "metadata": {},
   "outputs": [],
   "source": [
    "plt.style.use(\"fivethirtyeight\")\n",
    "sns.pairplot(RFM_df,hue='Frequency');"
   ]
  },
  {
   "cell_type": "code",
   "execution_count": null,
   "metadata": {},
   "outputs": [],
   "source": [
    "plt.style.use(\"fivethirtyeight\")\n",
    "chart=sns.countplot(x='Frequency',data=RFM_df,palette='rocket', order = RFM_df['Frequency'].value_counts().index)\n",
    "plt.title(\"Frequency\",\n",
    "          fontsize='20',\n",
    "          backgroundcolor='AliceBlue',\n",
    "          color='magenta');"
   ]
  },
  {
   "cell_type": "code",
   "execution_count": null,
   "metadata": {},
   "outputs": [],
   "source": [
    "plt.style.use(\"fivethirtyeight\")\n",
    "fig,ax=plt.subplots(ncols=2,nrows=1,figsize=(15,5))\n",
    "palette_color = sns.color_palette('rocket')\n",
    "ax[0].hist(x=RFM_df['CustomerAge'],color='purple')\n",
    "ax[0].set_title(\"Distribution of Customer Age\")\n",
    "ax[1].pie(RFM_df['CustGender'].value_counts(),autopct='%1.f%%',colors=palette_color,labels=['Male','Female'])\n",
    "ax[1].set_title(\"Customer Gender\")\n",
    "plt.tight_layout();"
   ]
  },
  {
   "cell_type": "code",
   "execution_count": null,
   "metadata": {},
   "outputs": [],
   "source": [
    "plt.style.use(\"fivethirtyeight\")\n",
    "plt.figure(figsize=(15,7))\n",
    "chart=sns.countplot(y='CustLocation',data=RFM_df,palette='rocket', order = RFM_df['CustLocation'].value_counts()[:20].index)\n",
    "plt.title(\"Most 20 Location of Customer \",\n",
    "          fontsize='20',\n",
    "          backgroundcolor='AliceBlue',\n",
    "          color='magenta');"
   ]
  },
  {
   "cell_type": "code",
   "execution_count": null,
   "metadata": {},
   "outputs": [],
   "source": [
    "plt.style.use(\"fivethirtyeight\")\n",
    "sns.scatterplot(x='TransactionAmount',y='CustAccountBalance',data=RFM_df,palette='rocket',hue='Frequency',size='Recency' )\n",
    "plt.title(\"TransactionAmount (INR) and CustAccountBalance\",\n",
    "          fontsize='20',\n",
    "          backgroundcolor='AliceBlue',\n",
    "          color='magenta');"
   ]
  },
  {
   "cell_type": "code",
   "execution_count": null,
   "metadata": {},
   "outputs": [],
   "source": [
    "# difference between maximum and minimum date\n",
    "RFM_df['TransactionDate'].max()-RFM_df['TransactionDate'].min()"
   ]
  },
  {
   "cell_type": "code",
   "execution_count": null,
   "metadata": {},
   "outputs": [],
   "source": [
    "RFM_df=RFM_df.sort_values(by='TransactionDate')\n",
    "groupbby_month=RFM_df.groupby([pd.Grouper(key='TransactionDate',freq='M')]).mean()\n",
    "print(groupbby_month.shape)\n",
    "groupbby_month"
   ]
  },
  {
   "cell_type": "code",
   "execution_count": null,
   "metadata": {},
   "outputs": [],
   "source": [
    "plt.style.use(\"fivethirtyeight\")\n",
    "fig,ax=plt.subplots(ncols=2,nrows=1,figsize=(15,5))\n",
    "ax[0].plot(groupbby_month.index,groupbby_month['CustAccountBalance'],color='purple',marker='o',label='Customer Account Balance')\n",
    "ax[0].set_title('Cust Account Balance Over The Time')\n",
    "ax[1].plot(groupbby_month.index,groupbby_month['TransactionAmount'],color='purple',marker='o',label='Transaction Amount')\n",
    "ax[1].set_title(\"Transaction Amount(INR) Over The Time\")\n",
    "plt.legend();"
   ]
  }
 ],
 "metadata": {
  "kernelspec": {
   "display_name": "Python 3",
   "language": "python",
   "name": "python3"
  },
  "language_info": {
   "codemirror_mode": {
    "name": "ipython",
    "version": 3
   },
   "file_extension": ".py",
   "mimetype": "text/x-python",
   "name": "python",
   "nbconvert_exporter": "python",
   "pygments_lexer": "ipython3",
   "version": "3.10.4"
  },
  "orig_nbformat": 4
 },
 "nbformat": 4,
 "nbformat_minor": 2
}
